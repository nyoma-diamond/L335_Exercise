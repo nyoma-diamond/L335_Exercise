{
 "nbformat": 4,
 "nbformat_minor": 0,
 "metadata": {
  "colab": {
   "provenance": []
  },
  "kernelspec": {
   "name": "python3",
   "language": "python",
   "display_name": "Python 3 (ipykernel)"
  },
  "language_info": {
   "name": "python"
  },
  "accelerator": "GPU"
 },
 "cells": [
  {
   "cell_type": "markdown",
   "source": [
    "### Description\n",
    "This is skeleton code for **Exercise 1: classification** for *L335 Machine Visual Perception*. For this task, we will formulate a classification network to predict the labels of images obtained from the FashionMNIST dataset and explore several key concepts in the design and training of the network.\n",
    "\n",
    "You can run the rest of this file without any changes as a sanity check."
   ],
   "metadata": {
    "id": "pAdqKVdvo5Af"
   }
  },
  {
   "cell_type": "code",
   "source": [
    "import torch\n",
    "import torch.nn as nn\n",
    "from torch.utils.data import DataLoader\n",
    "import torchvision\n",
    "from torchvision import datasets\n",
    "from torchvision.transforms import ToTensor\n",
    "import numpy as np\n",
    "import matplotlib.pyplot as plt\n",
    "import time\n",
    "import datetime\n",
    "import dill\n",
    "\n",
    "device = \"cuda\" if torch.cuda.is_available() else \"cpu\"\n",
    "print(f\"Using {device} device\")\n",
    "if device == 'cuda':\n",
    "    print(torch.cuda.get_device_name())"
   ],
   "metadata": {
    "colab": {
     "base_uri": "https://localhost:8080/"
    },
    "id": "Z7y6iBdVrEWi",
    "outputId": "20806222-89e7-4092-fb78-22b6b691530b",
    "ExecuteTime": {
     "end_time": "2023-11-07T22:58:47.502110200Z",
     "start_time": "2023-11-07T22:58:47.480085600Z"
    }
   },
   "execution_count": 2,
   "outputs": [
    {
     "name": "stdout",
     "output_type": "stream",
     "text": [
      "Using cuda device\n",
      "Tesla P100-PCIE-16GB\n"
     ]
    }
   ]
  },
  {
   "cell_type": "code",
   "source": [
    "# download the training and testing dataset\n",
    "training_data = datasets.FashionMNIST(\n",
    "    root=\"data\",\n",
    "    train=True,\n",
    "    download=True,\n",
    "    transform=ToTensor()\n",
    ")\n",
    "\n",
    "test_data = datasets.FashionMNIST(\n",
    "    root=\"data\",\n",
    "    train=False,\n",
    "    download=True,\n",
    "    transform=ToTensor()\n",
    ")\n",
    "\n",
    "train_batch_size = 64\n",
    "test_batch_size = 10\n",
    "\n",
    "# initialise the data loader\n",
    "trainloader = DataLoader(training_data, batch_size=train_batch_size, shuffle=True, num_workers=2)\n",
    "\n",
    "testloader = DataLoader(test_data, batch_size=test_batch_size, shuffle=True, num_workers=2)\n",
    "\n",
    "# establish the labels map\n",
    "labels_map = {\n",
    "    0: \"T-Shirt\",\n",
    "    1: \"Trouser\",\n",
    "    2: \"Pullover\",\n",
    "    3: \"Dress\",\n",
    "    4: \"Coat\",\n",
    "    5: \"Sandal\",\n",
    "    6: \"Shirt\",\n",
    "    7: \"Sneaker\",\n",
    "    8: \"Bag\",\n",
    "    9: \"Ankle Boot\",\n",
    "}\n",
    "\n",
    "# preview the dataset\n",
    "figure = plt.figure(figsize=(8, 8))\n",
    "cols, rows = 3, 3\n",
    "for i in range(1, cols * rows + 1):\n",
    "    sample_idx = torch.randint(len(training_data), size=(1,)).item()\n",
    "    img, label = training_data[sample_idx]\n",
    "    figure.add_subplot(rows, cols, i)\n",
    "    plt.title(labels_map[label])\n",
    "    plt.axis(\"off\")\n",
    "    plt.imshow(img.squeeze(), cmap=\"gray\")\n",
    "plt.show()"
   ],
   "metadata": {
    "colab": {
     "base_uri": "https://localhost:8080/",
     "height": 482
    },
    "id": "kdr3kdOJzbfG",
    "outputId": "3ab7e537-ac94-4b15-a87e-e696ba876cfc",
    "ExecuteTime": {
     "end_time": "2023-11-07T15:05:41.104927700Z",
     "start_time": "2023-11-07T15:05:40.247117Z"
    }
   },
   "execution_count": 4,
   "outputs": [
    {
     "data": {
      "text/plain": "<Figure size 576x576 with 9 Axes>",
      "image/png": "[encoded data removed]"
     },
     "metadata": {
      "needs_background": "light"
     },
     "output_type": "display_data"
    }
   ]
  },
  {
   "cell_type": "code",
   "execution_count": 5,
   "outputs": [],
   "source": [
    "# initialise a 3-layer fully-connected network\n",
    "class BasicNet(nn.Module):\n",
    "    def __init__(self):\n",
    "        super().__init__()\n",
    "        self.n_hidden = 512\n",
    "        self.linear1 = nn.Linear(28*28, self.n_hidden)\n",
    "        self.linear2 = nn.Linear(self.n_hidden, self.n_hidden)\n",
    "        self.linear3 = nn.Linear(self.n_hidden, 10)\n",
    "        self.act_ReLU = nn.ReLU()\n",
    "\n",
    "    def forward(self, x):\n",
    "        x = torch.flatten(x, 1) # flatten all dimensions except batch\n",
    "        x = self.linear1(x)\n",
    "        x = self.act_ReLU(x)\n",
    "        x = self.linear2(x)\n",
    "        x = self.act_ReLU(x)\n",
    "        x = self.linear3(x)\n",
    "        return x"
   ],
   "metadata": {
    "collapsed": false,
    "ExecuteTime": {
     "end_time": "2023-11-07T15:05:41.106Z",
     "start_time": "2023-11-07T15:05:41.104927700Z"
    }
   }
  },
  {
   "cell_type": "code",
   "execution_count": 6,
   "outputs": [
    {
     "name": "stdout",
     "output_type": "stream",
     "text": [
      "BasicNet(\n",
      "  (linear1): Linear(in_features=784, out_features=512, bias=True)\n",
      "  (linear2): Linear(in_features=512, out_features=512, bias=True)\n",
      "  (linear3): Linear(in_features=512, out_features=10, bias=True)\n",
      "  (act_ReLU): ReLU()\n",
      ")\n"
     ]
    }
   ],
   "source": [
    "basic_model = BasicNet().to(device)\n",
    "print(basic_model)\n",
    "\n",
    "# define the loss and optimiser\n",
    "loss_fn = nn.CrossEntropyLoss()\n",
    "optimizer = torch.optim.SGD(basic_model.parameters(), lr=0.001, momentum=0.9)"
   ],
   "metadata": {
    "collapsed": false,
    "ExecuteTime": {
     "end_time": "2023-11-07T15:05:41.443288100Z",
     "start_time": "2023-11-07T15:05:41.104927700Z"
    }
   }
  },
  {
   "cell_type": "code",
   "source": [
    "# helper function to compute the model accuracy on the specified dataset\n",
    "def compute_accuracy(dataloader, model, loss_fn):\n",
    "    size = len(dataloader.dataset)\n",
    "    num_batches = len(dataloader)\n",
    "    model.eval()\n",
    "    test_loss, correct = 0, 0\n",
    "    with torch.no_grad():\n",
    "        for X, y in dataloader:\n",
    "            X, y = X.to(device), y.to(device)\n",
    "            pred = model(X)\n",
    "            test_loss += loss_fn(pred, y).item()\n",
    "            correct += (pred.argmax(1) == y).type(torch.float).sum().item()\n",
    "    test_loss /= num_batches\n",
    "    correct /= size\n",
    "    return correct, test_loss"
   ],
   "metadata": {
    "id": "WeFio8BbOIoX",
    "ExecuteTime": {
     "end_time": "2023-11-07T15:05:41.465936900Z",
     "start_time": "2023-11-07T15:05:41.455322500Z"
    }
   },
   "execution_count": 7,
   "outputs": []
  },
  {
   "cell_type": "code",
   "source": [
    "# training\n",
    "def train(model, optimizer, loss_fn, n_epochs=10, trainloader=trainloader):\n",
    "    start = time.time()\n",
    "\n",
    "    train_accuracy, train_loss = compute_accuracy(trainloader, model, loss_fn)\n",
    "    test_accuracy, test_loss = compute_accuracy(testloader, model, loss_fn)\n",
    "    \n",
    "    history = {\n",
    "        'accuracy': {\n",
    "            'train': [train_accuracy],\n",
    "            'test': [test_accuracy]\n",
    "        },\n",
    "        'loss': {\n",
    "            'train': [train_loss],\n",
    "            'test': [test_loss]\n",
    "        }\n",
    "    }\n",
    "    for epoch in range(n_epochs):\n",
    "        running_loss = 0.0\n",
    "        for i, data in enumerate(trainloader, 0):\n",
    "            inputs, labels = data\n",
    "            inputs, labels = inputs.to(device), labels.to(device)\n",
    "    \n",
    "            # zero the gradients of the training parameters\n",
    "            optimizer.zero_grad()\n",
    "    \n",
    "            # forward feed\n",
    "            outputs = model(inputs)\n",
    "            loss = loss_fn(outputs, labels)\n",
    "    \n",
    "            # backpropagate\n",
    "            loss.backward()\n",
    "    \n",
    "            # update the training parameters\n",
    "            optimizer.step()\n",
    "    \n",
    "            # print statistics\n",
    "            running_loss += loss.item()\n",
    "            if i % 200 == 199:    # print every 200 mini-batches\n",
    "                print('epoch:', epoch + 1, 'batch:', i, 'loss:', running_loss / 200)\n",
    "                running_loss = 0.0\n",
    "    \n",
    "        train_accuracy, train_loss = compute_accuracy(trainloader, model, loss_fn)\n",
    "        test_accuracy, test_loss = compute_accuracy(testloader, model, loss_fn)\n",
    "    \n",
    "        print('accuracy on training set:', train_accuracy)\n",
    "        print('accuracy on test set:', test_accuracy)\n",
    "        \n",
    "        history['accuracy']['train'].append(train_accuracy)\n",
    "        history['accuracy']['test'].append(test_accuracy)\n",
    "        history['loss']['train'].append(train_loss)\n",
    "        history['loss']['test'].append(test_loss)        \n",
    "    \n",
    "    elapsed_time = datetime.timedelta(seconds=time.time()-start)\n",
    "    print('Finished Training')\n",
    "    print(f'Elapsed time: {elapsed_time} ({elapsed_time/n_epochs} per epoch)')\n",
    "    \n",
    "    return history"
   ],
   "metadata": {
    "colab": {
     "base_uri": "https://localhost:8080/"
    },
    "id": "Nmr3Ea6L84pw",
    "outputId": "a956829d-6536-447b-ab2a-554a0172d790",
    "ExecuteTime": {
     "end_time": "2023-11-07T15:05:41.516514900Z",
     "start_time": "2023-11-07T15:05:41.468946300Z"
    }
   },
   "execution_count": 8,
   "outputs": []
  },
  {
   "cell_type": "code",
   "execution_count": 9,
   "outputs": [],
   "source": [
    "train_epochs = 20"
   ],
   "metadata": {
    "collapsed": false,
    "ExecuteTime": {
     "end_time": "2023-11-07T15:05:41.516514900Z",
     "start_time": "2023-11-07T15:05:41.508296300Z"
    }
   }
  },
  {
   "cell_type": "code",
   "execution_count": 7,
   "outputs": [
    {
     "name": "stdout",
     "output_type": "stream",
     "text": [
      "epoch: 1 batch: 199 loss: 2.1391631531715394\n",
      "epoch: 1 batch: 399 loss: 1.5254528552293778\n",
      "epoch: 1 batch: 599 loss: 1.0752620255947114\n",
      "epoch: 1 batch: 799 loss: 0.8814401099085808\n",
      "accuracy on training set: 0.72405\n",
      "accuracy on test set: 0.7137\n",
      "epoch: 2 batch: 199 loss: 0.751473394036293\n",
      "epoch: 2 batch: 399 loss: 0.7052342519164085\n",
      "epoch: 2 batch: 599 loss: 0.6721869391202927\n",
      "epoch: 2 batch: 799 loss: 0.6469738231599331\n",
      "accuracy on training set: 0.7937166666666666\n",
      "accuracy on test set: 0.7813\n",
      "epoch: 3 batch: 199 loss: 0.6006628453731537\n",
      "epoch: 3 batch: 399 loss: 0.5804312546551228\n",
      "epoch: 3 batch: 599 loss: 0.5651793804764748\n",
      "epoch: 3 batch: 799 loss: 0.5568422716856003\n",
      "accuracy on training set: 0.8178333333333333\n",
      "accuracy on test set: 0.8037\n",
      "epoch: 4 batch: 199 loss: 0.5185689654946327\n",
      "epoch: 4 batch: 399 loss: 0.5201960378885269\n",
      "epoch: 4 batch: 599 loss: 0.5159001341462135\n",
      "epoch: 4 batch: 799 loss: 0.5225139570236206\n",
      "accuracy on training set: 0.8282\n",
      "accuracy on test set: 0.8136\n",
      "epoch: 5 batch: 199 loss: 0.4929266028106213\n",
      "epoch: 5 batch: 399 loss: 0.4940558360517025\n",
      "epoch: 5 batch: 599 loss: 0.4859078371524811\n",
      "epoch: 5 batch: 799 loss: 0.47439628049731253\n",
      "accuracy on training set: 0.8302\n",
      "accuracy on test set: 0.8176\n",
      "epoch: 6 batch: 199 loss: 0.4685436526685953\n",
      "epoch: 6 batch: 399 loss: 0.4699934931844473\n",
      "epoch: 6 batch: 599 loss: 0.4528307081758976\n",
      "epoch: 6 batch: 799 loss: 0.4678145854175091\n",
      "accuracy on training set: 0.8392666666666667\n",
      "accuracy on test set: 0.8243\n",
      "epoch: 7 batch: 199 loss: 0.46048149429261687\n",
      "epoch: 7 batch: 399 loss: 0.4436847833544016\n",
      "epoch: 7 batch: 599 loss: 0.44578254349529745\n",
      "epoch: 7 batch: 799 loss: 0.4638524042069912\n",
      "accuracy on training set: 0.8493666666666667\n",
      "accuracy on test set: 0.8327\n",
      "epoch: 8 batch: 199 loss: 0.4277334686368704\n",
      "epoch: 8 batch: 399 loss: 0.44565302558243275\n",
      "epoch: 8 batch: 599 loss: 0.4424715308845043\n",
      "epoch: 8 batch: 799 loss: 0.4276977415382862\n",
      "accuracy on training set: 0.8477833333333333\n",
      "accuracy on test set: 0.8323\n",
      "epoch: 9 batch: 199 loss: 0.42512455001473426\n",
      "epoch: 9 batch: 399 loss: 0.43300407961010934\n",
      "epoch: 9 batch: 599 loss: 0.4260779704153538\n",
      "epoch: 9 batch: 799 loss: 0.4170989676564932\n",
      "accuracy on training set: 0.8571333333333333\n",
      "accuracy on test set: 0.8415\n",
      "epoch: 10 batch: 199 loss: 0.40325886823236945\n",
      "epoch: 10 batch: 399 loss: 0.4176569399982691\n",
      "epoch: 10 batch: 599 loss: 0.41949125558137895\n",
      "epoch: 10 batch: 799 loss: 0.4193532930314541\n",
      "accuracy on training set: 0.85995\n",
      "accuracy on test set: 0.8422\n",
      "epoch: 11 batch: 199 loss: 0.41903013721108434\n",
      "epoch: 11 batch: 399 loss: 0.4009808427840471\n",
      "epoch: 11 batch: 599 loss: 0.407669238820672\n",
      "epoch: 11 batch: 799 loss: 0.41540513463318346\n",
      "accuracy on training set: 0.86125\n",
      "accuracy on test set: 0.8445\n",
      "epoch: 12 batch: 199 loss: 0.39784401215612886\n",
      "epoch: 12 batch: 399 loss: 0.40490317814052107\n",
      "epoch: 12 batch: 599 loss: 0.40214151829481126\n",
      "epoch: 12 batch: 799 loss: 0.4035373458266258\n",
      "accuracy on training set: 0.86575\n",
      "accuracy on test set: 0.8482\n",
      "epoch: 13 batch: 199 loss: 0.37643798857927324\n",
      "epoch: 13 batch: 399 loss: 0.40497180841863156\n",
      "epoch: 13 batch: 599 loss: 0.4063994698226452\n",
      "epoch: 13 batch: 799 loss: 0.38009844705462453\n",
      "accuracy on training set: 0.8682333333333333\n",
      "accuracy on test set: 0.8507\n",
      "epoch: 14 batch: 199 loss: 0.38839028500020506\n",
      "epoch: 14 batch: 399 loss: 0.3887297673523426\n",
      "epoch: 14 batch: 599 loss: 0.38602589644491675\n",
      "epoch: 14 batch: 799 loss: 0.3757133043557406\n",
      "accuracy on training set: 0.8691333333333333\n",
      "accuracy on test set: 0.8524\n",
      "epoch: 15 batch: 199 loss: 0.3899029207229614\n",
      "epoch: 15 batch: 399 loss: 0.3820263918489218\n",
      "epoch: 15 batch: 599 loss: 0.3732257939875126\n",
      "epoch: 15 batch: 799 loss: 0.372678475305438\n",
      "accuracy on training set: 0.8706\n",
      "accuracy on test set: 0.8536\n",
      "epoch: 16 batch: 199 loss: 0.37250331826508043\n",
      "epoch: 16 batch: 399 loss: 0.3610243649035692\n",
      "epoch: 16 batch: 599 loss: 0.3922300884127617\n",
      "epoch: 16 batch: 799 loss: 0.3723933282494545\n",
      "accuracy on training set: 0.8738666666666667\n",
      "accuracy on test set: 0.8555\n",
      "epoch: 17 batch: 199 loss: 0.3629341924190521\n",
      "epoch: 17 batch: 399 loss: 0.3673563426733017\n",
      "epoch: 17 batch: 599 loss: 0.36590765960514543\n",
      "epoch: 17 batch: 799 loss: 0.3748256620764732\n",
      "accuracy on training set: 0.8723166666666666\n",
      "accuracy on test set: 0.8539\n",
      "epoch: 18 batch: 199 loss: 0.3752384031191468\n",
      "epoch: 18 batch: 399 loss: 0.3559251521527767\n",
      "epoch: 18 batch: 599 loss: 0.3578510393202305\n",
      "epoch: 18 batch: 799 loss: 0.35794977091252805\n",
      "accuracy on training set: 0.8680666666666667\n",
      "accuracy on test set: 0.852\n",
      "epoch: 19 batch: 199 loss: 0.35914306208491326\n",
      "epoch: 19 batch: 399 loss: 0.36224842347204683\n",
      "epoch: 19 batch: 599 loss: 0.35237231574952604\n",
      "epoch: 19 batch: 799 loss: 0.3540403647720814\n",
      "accuracy on training set: 0.8793333333333333\n",
      "accuracy on test set: 0.8606\n",
      "epoch: 20 batch: 199 loss: 0.34419692784547806\n",
      "epoch: 20 batch: 399 loss: 0.3606965057551861\n",
      "epoch: 20 batch: 599 loss: 0.34488260447978974\n",
      "epoch: 20 batch: 799 loss: 0.3445520453900099\n",
      "accuracy on training set: 0.8791166666666667\n",
      "accuracy on test set: 0.8596\n",
      "Finished Training\n",
      "Elapsed time: 0:05:06.356345 (0:00:15.317817 per epoch)\n"
     ]
    }
   ],
   "source": [
    "basic_history = train(basic_model, optimizer, loss_fn, n_epochs=train_epochs)"
   ],
   "metadata": {
    "collapsed": false,
    "ExecuteTime": {
     "end_time": "2023-11-06T23:41:43.003959500Z",
     "start_time": "2023-11-06T23:36:36.629057300Z"
    }
   }
  },
  {
   "cell_type": "code",
   "source": [
    "# visualise the performance on the test data\n",
    "dataiter = iter(testloader)\n",
    "images, labels = next(dataiter)\n",
    "images, labels = images.to(device), labels.to(device)\n",
    "\n",
    "def imshow(img):\n",
    "    npimg = img.cpu().numpy()\n",
    "    plt.imshow(np.transpose(npimg, (1, 2, 0)))\n",
    "    plt.axis(\"off\")\n",
    "    plt.show()\n",
    "imshow(torchvision.utils.make_grid(images))\n",
    "print('GroundTruth: ', ' '.join(f'{labels_map[int(labels[j])]:5s}' for j in range(test_batch_size)))\n",
    "\n",
    "outputs = basic_model(images)\n",
    "_, predicted = torch.max(outputs, 1)\n",
    "\n",
    "print('Predicted: ', ' '.join(f'{labels_map[int(predicted[j])]:5s}' for j in range(test_batch_size)))"
   ],
   "metadata": {
    "colab": {
     "base_uri": "https://localhost:8080/",
     "height": 153
    },
    "id": "gIxRgpPABIhA",
    "outputId": "fcee9482-784d-4e06-e803-57c72d0cadf7",
    "ExecuteTime": {
     "end_time": "2023-11-06T23:41:43.544260400Z",
     "start_time": "2023-11-06T23:41:42.996957500Z"
    }
   },
   "execution_count": 8,
   "outputs": [
    {
     "data": {
      "text/plain": "<Figure size 432x288 with 1 Axes>",
      "image/png": "[encoded data removed]"
     },
     "metadata": {
      "needs_background": "light"
     },
     "output_type": "display_data"
    },
    {
     "name": "stdout",
     "output_type": "stream",
     "text": [
      "GroundTruth:  T-Shirt Sneaker T-Shirt Shirt Bag   Sandal T-Shirt Sandal Bag   Sneaker\n",
      "Predicted:  T-Shirt Sneaker T-Shirt Shirt Bag   Sandal T-Shirt Sandal Bag   Sneaker\n"
     ]
    }
   ]
  },
  {
   "cell_type": "markdown",
   "source": [
    "### Task 1\n",
    "\n",
    "The current forward model is a basic three-layer fully connected network (FCN). As introduced in the lecture, there are many possibilities, such as a CNN, to tailor the network architecture to better distil the local features of images. The first task is to update the network architecture to a CNN with three convolutional layers and two FC layers. Choose the hyperparameters of the CNN (e.g. the number of output channels, kernel size, hidden layer size, etc. of the convolutional layers, pooling layer, and the FC layers) such that the total number of training parameters is similar to that of the basic net. Retrain the network with the same epoch and batch size and compare the training and test accuracy of the CNN with the basic net.\n",
    "\n",
    "**Deliverable:** Report the choice of the hyperparameters of your CNN and show the calculation of the number of training parameters. Show a quantitative comparison of the model accuracy of the basic net and the CNN on the training and test data with a plot of accuracy vs. epochs. Report whether the model is under-fitted, well-fitted, or over-fitted, explain the possible causes, and suggest potential solutions. Visualise the feature maps of each convolutional layer."
   ],
   "metadata": {
    "collapsed": false
   }
  },
  {
   "cell_type": "code",
   "execution_count": 10,
   "outputs": [],
   "source": [
    "# initialise a 3-layer fully-connected network\n",
    "class ConvNet(nn.Module):\n",
    "    def __init__(self, n_hidden, conv_channels, kernel_size):\n",
    "        super().__init__()\n",
    "        self.n_hidden = n_hidden\n",
    "        self.conv_channels = conv_channels\n",
    "        \n",
    "        self.conv1 = nn.Conv2d(1, self.conv_channels, kernel_size, padding='same')\n",
    "        self.conv2 = nn.Conv2d(self.conv_channels, self.conv_channels, kernel_size, padding='same')\n",
    "        self.conv3 = nn.Conv2d(self.conv_channels, self.conv_channels, kernel_size, padding='same')\n",
    "        \n",
    "        self.linear1 = nn.Linear(self.conv_channels*16*16, self.n_hidden)\n",
    "        self.linear2 = nn.Linear(self.n_hidden, self.n_hidden)\n",
    "        self.linear3 = nn.Linear(self.n_hidden, 10)\n",
    "        \n",
    "        self.pool = nn.MaxPool2d(kernel_size, stride=1)\n",
    "        self.ReLU = nn.ReLU()\n",
    "\n",
    "    def forward(self, x):\n",
    "        x = self.conv1(x)\n",
    "        x = self.ReLU(self.pool(x))\n",
    "        \n",
    "        x = self.conv2(x)\n",
    "        x = self.ReLU(self.pool(x))\n",
    "        \n",
    "        x = self.conv3(x)\n",
    "        x = self.ReLU(self.pool(x))\n",
    "        \n",
    "        x = torch.flatten(x, 1) # flatten all dimensions except batch\n",
    "                \n",
    "        x = self.ReLU(self.linear1(x))\n",
    "        x = self.ReLU(self.linear2(x))\n",
    "        x = self.ReLU(self.linear3(x))\n",
    "        return x"
   ],
   "metadata": {
    "collapsed": false,
    "ExecuteTime": {
     "end_time": "2023-11-07T15:05:41.568344900Z",
     "start_time": "2023-11-07T15:05:41.508296300Z"
    }
   }
  },
  {
   "cell_type": "code",
   "execution_count": 11,
   "outputs": [
    {
     "name": "stdout",
     "output_type": "stream",
     "text": [
      "ConvNet(\n",
      "  (conv1): Conv2d(1, 9, kernel_size=(5, 5), stride=(1, 1), padding=same)\n",
      "  (conv2): Conv2d(9, 9, kernel_size=(5, 5), stride=(1, 1), padding=same)\n",
      "  (conv3): Conv2d(9, 9, kernel_size=(5, 5), stride=(1, 1), padding=same)\n",
      "  (linear1): Linear(in_features=2304, out_features=256, bias=True)\n",
      "  (linear2): Linear(in_features=256, out_features=256, bias=True)\n",
      "  (linear3): Linear(in_features=256, out_features=10, bias=True)\n",
      "  (pool): MaxPool2d(kernel_size=5, stride=1, padding=0, dilation=1, ceil_mode=False)\n",
      "  (ReLU): ReLU()\n",
      ")\n"
     ]
    }
   ],
   "source": [
    "conv_model = ConvNet(n_hidden=256, conv_channels=9, kernel_size=5).to(device)\n",
    "print(conv_model)\n",
    "\n",
    "# define the loss and optimiser\n",
    "loss_fn = nn.CrossEntropyLoss()\n",
    "optimizer = torch.optim.SGD(conv_model.parameters(), lr=0.001, momentum=0.9)"
   ],
   "metadata": {
    "collapsed": false,
    "ExecuteTime": {
     "end_time": "2023-11-07T15:05:41.569340200Z",
     "start_time": "2023-11-07T15:05:41.564339800Z"
    }
   }
  },
  {
   "cell_type": "code",
   "execution_count": 12,
   "outputs": [
    {
     "name": "stdout",
     "output_type": "stream",
     "text": [
      "Basic network training parameters: 669,706\n",
      "Convolutional network training parameters: 662,744\n"
     ]
    }
   ],
   "source": [
    "def count_parameters(model):\n",
    "    return sum(p.numel() for p in model.parameters() if p.requires_grad)\n",
    "\n",
    "print(f'Basic network training parameters: {count_parameters(basic_model):,}')\n",
    "print(f'Convolutional network training parameters: {count_parameters(conv_model):,}')"
   ],
   "metadata": {
    "collapsed": false,
    "ExecuteTime": {
     "end_time": "2023-11-07T15:05:41.634433100Z",
     "start_time": "2023-11-07T15:05:41.567343500Z"
    }
   }
  },
  {
   "cell_type": "code",
   "execution_count": 119,
   "outputs": [
    {
     "name": "stdout",
     "output_type": "stream",
     "text": [
      "epoch: 1 batch: 199 loss: 2.3010993802547457\n",
      "epoch: 1 batch: 399 loss: 2.294318697452545\n",
      "epoch: 1 batch: 599 loss: 2.176096054315567\n",
      "epoch: 1 batch: 799 loss: 1.489182625412941\n",
      "accuracy on training set: 0.6424\n",
      "accuracy on test set: 0.6357\n",
      "epoch: 2 batch: 199 loss: 0.8326843893527984\n",
      "epoch: 2 batch: 399 loss: 0.766555684953928\n",
      "epoch: 2 batch: 599 loss: 0.6919533501565457\n",
      "epoch: 2 batch: 799 loss: 0.6473279233276844\n",
      "accuracy on training set: 0.7768666666666667\n",
      "accuracy on test set: 0.7702\n",
      "epoch: 3 batch: 199 loss: 0.6066831786930561\n",
      "epoch: 3 batch: 399 loss: 0.5775668193399907\n",
      "epoch: 3 batch: 599 loss: 0.5544421854615211\n",
      "epoch: 3 batch: 799 loss: 0.5406636704504489\n",
      "accuracy on training set: 0.8119\n",
      "accuracy on test set: 0.8014\n",
      "epoch: 4 batch: 199 loss: 0.5125208932161331\n",
      "epoch: 4 batch: 399 loss: 0.49585449278354643\n",
      "epoch: 4 batch: 599 loss: 0.4978248847275972\n",
      "epoch: 4 batch: 799 loss: 0.46535862013697626\n",
      "accuracy on training set: 0.8197333333333333\n",
      "accuracy on test set: 0.8115\n",
      "epoch: 5 batch: 199 loss: 0.4540080154687166\n",
      "epoch: 5 batch: 399 loss: 0.44108474113047125\n",
      "epoch: 5 batch: 599 loss: 0.4467366280406713\n",
      "epoch: 5 batch: 799 loss: 0.43950374498963357\n",
      "accuracy on training set: 0.8528333333333333\n",
      "accuracy on test set: 0.8441\n",
      "epoch: 6 batch: 199 loss: 0.4204244417697191\n",
      "epoch: 6 batch: 399 loss: 0.4174324478209019\n",
      "epoch: 6 batch: 599 loss: 0.41090710438787936\n",
      "epoch: 6 batch: 799 loss: 0.39384433045983314\n",
      "accuracy on training set: 0.8603666666666666\n",
      "accuracy on test set: 0.85\n",
      "epoch: 7 batch: 199 loss: 0.3832049791514873\n",
      "epoch: 7 batch: 399 loss: 0.37785296626389026\n",
      "epoch: 7 batch: 599 loss: 0.3963323649764061\n",
      "epoch: 7 batch: 799 loss: 0.379105369374156\n",
      "accuracy on training set: 0.8625833333333334\n",
      "accuracy on test set: 0.8533\n",
      "epoch: 8 batch: 199 loss: 0.3761740697175264\n",
      "epoch: 8 batch: 399 loss: 0.3580179288238287\n",
      "epoch: 8 batch: 599 loss: 0.3567479602992535\n",
      "epoch: 8 batch: 799 loss: 0.35970024041831494\n",
      "accuracy on training set: 0.8676833333333334\n",
      "accuracy on test set: 0.8583\n",
      "epoch: 9 batch: 199 loss: 0.34749610029160977\n",
      "epoch: 9 batch: 399 loss: 0.35559634312987326\n",
      "epoch: 9 batch: 599 loss: 0.3395695899426937\n",
      "epoch: 9 batch: 799 loss: 0.33894074603915214\n",
      "accuracy on training set: 0.8762166666666666\n",
      "accuracy on test set: 0.867\n",
      "epoch: 10 batch: 199 loss: 0.3307363308221102\n",
      "epoch: 10 batch: 399 loss: 0.33396374456584454\n",
      "epoch: 10 batch: 599 loss: 0.33604321591556074\n",
      "epoch: 10 batch: 799 loss: 0.3273562030121684\n",
      "accuracy on training set: 0.88085\n",
      "accuracy on test set: 0.8696\n",
      "epoch: 11 batch: 199 loss: 0.3243308464437723\n",
      "epoch: 11 batch: 399 loss: 0.33139624692499636\n",
      "epoch: 11 batch: 599 loss: 0.3165506100282073\n",
      "epoch: 11 batch: 799 loss: 0.3125569412857294\n",
      "accuracy on training set: 0.8883666666666666\n",
      "accuracy on test set: 0.8793\n",
      "epoch: 12 batch: 199 loss: 0.30885310798883436\n",
      "epoch: 12 batch: 399 loss: 0.3124445080012083\n",
      "epoch: 12 batch: 599 loss: 0.3171032193303108\n",
      "epoch: 12 batch: 799 loss: 0.30476016744971274\n",
      "accuracy on training set: 0.889\n",
      "accuracy on test set: 0.8771\n",
      "epoch: 13 batch: 199 loss: 0.3096987361460924\n",
      "epoch: 13 batch: 399 loss: 0.30215796988457444\n",
      "epoch: 13 batch: 599 loss: 0.30421819813549517\n",
      "epoch: 13 batch: 799 loss: 0.2979352627694607\n",
      "accuracy on training set: 0.88795\n",
      "accuracy on test set: 0.8776\n",
      "epoch: 14 batch: 199 loss: 0.2828764423727989\n",
      "epoch: 14 batch: 399 loss: 0.2992681599035859\n",
      "epoch: 14 batch: 599 loss: 0.287839440703392\n",
      "epoch: 14 batch: 799 loss: 0.303233908303082\n",
      "accuracy on training set: 0.8962666666666667\n",
      "accuracy on test set: 0.8827\n",
      "epoch: 15 batch: 199 loss: 0.27920073390007016\n",
      "epoch: 15 batch: 399 loss: 0.2931341416761279\n",
      "epoch: 15 batch: 599 loss: 0.2920801748707891\n",
      "epoch: 15 batch: 799 loss: 0.2877243973314762\n",
      "accuracy on training set: 0.8899\n",
      "accuracy on test set: 0.8785\n",
      "epoch: 16 batch: 199 loss: 0.2732003119029105\n",
      "epoch: 16 batch: 399 loss: 0.28424305506050584\n",
      "epoch: 16 batch: 599 loss: 0.29176261462271214\n",
      "epoch: 16 batch: 799 loss: 0.2872476937249303\n",
      "accuracy on training set: 0.8970166666666667\n",
      "accuracy on test set: 0.8856\n",
      "epoch: 17 batch: 199 loss: 0.27417264770716426\n",
      "epoch: 17 batch: 399 loss: 0.2728442496061325\n",
      "epoch: 17 batch: 599 loss: 0.2676464312523603\n",
      "epoch: 17 batch: 799 loss: 0.27457465678453447\n",
      "accuracy on training set: 0.9055166666666666\n",
      "accuracy on test set: 0.8924\n",
      "epoch: 18 batch: 199 loss: 0.26075509276241066\n",
      "epoch: 18 batch: 399 loss: 0.2814558716863394\n",
      "epoch: 18 batch: 599 loss: 0.26668399438261986\n",
      "epoch: 18 batch: 799 loss: 0.27732004374265673\n",
      "accuracy on training set: 0.8909\n",
      "accuracy on test set: 0.876\n",
      "epoch: 19 batch: 199 loss: 0.26441378619521855\n",
      "epoch: 19 batch: 399 loss: 0.2634860334172845\n",
      "epoch: 19 batch: 599 loss: 0.2593719933927059\n",
      "epoch: 19 batch: 799 loss: 0.27033871211111543\n",
      "accuracy on training set: 0.9086666666666666\n",
      "accuracy on test set: 0.8931\n",
      "epoch: 20 batch: 199 loss: 0.25092184226959946\n",
      "epoch: 20 batch: 399 loss: 0.2611173816770315\n",
      "epoch: 20 batch: 599 loss: 0.2651373165845871\n",
      "epoch: 20 batch: 799 loss: 0.25506701350212097\n",
      "accuracy on training set: 0.9065166666666666\n",
      "accuracy on test set: 0.89\n",
      "Finished Training\n",
      "Elapsed time: 0:05:44.337635 (0:00:17.216882 per epoch)\n"
     ]
    }
   ],
   "source": [
    "conv_history = train(conv_model, optimizer, loss_fn, n_epochs=train_epochs)"
   ],
   "metadata": {
    "collapsed": false,
    "ExecuteTime": {
     "end_time": "2023-11-07T00:30:07.173158100Z",
     "start_time": "2023-11-07T00:24:22.773731400Z"
    }
   }
  },
  {
   "cell_type": "code",
   "execution_count": 120,
   "outputs": [
    {
     "data": {
      "text/plain": "<Figure size 864x360 with 2 Axes>",
      "image/png": "[encoded data removed]"
     },
     "metadata": {
      "needs_background": "light"
     },
     "output_type": "display_data"
    }
   ],
   "source": [
    "_, axs = plt.subplots(1,2, figsize=(12,5), sharey=True)\n",
    "\n",
    "axs[0].set_title('Basic model')\n",
    "axs[0].set_ylabel('Accuracy')\n",
    "axs[0].set_xlabel('Epoch')\n",
    "axs[0].plot(basic_history['accuracy']['train'], label='Train accuracy')\n",
    "axs[0].plot(basic_history['accuracy']['test'], label='Test accuracy')\n",
    "axs[0].legend(loc='lower right')\n",
    "\n",
    "axs[1].set_title('Convolutional model')\n",
    "axs[1].set_xlabel('Epoch')\n",
    "axs[1].plot(conv_history['accuracy']['train'], label='Train accuracy')\n",
    "axs[1].plot(conv_history['accuracy']['test'], label='Test accuracy')\n",
    "axs[1].legend(loc='lower right')\n",
    "\n",
    "plt.tight_layout()\n",
    "plt.show()"
   ],
   "metadata": {
    "collapsed": false,
    "ExecuteTime": {
     "end_time": "2023-11-07T00:30:07.517259400Z",
     "start_time": "2023-11-07T00:30:07.165145Z"
    }
   }
  },
  {
   "cell_type": "code",
   "execution_count": 121,
   "outputs": [
    {
     "data": {
      "text/plain": "<Figure size 432x288 with 1 Axes>",
      "image/png": "[encoded data removed]"
     },
     "metadata": {
      "needs_background": "light"
     },
     "output_type": "display_data"
    }
   ],
   "source": [
    "plt.plot(basic_history['accuracy']['test'], label='Basic model test accuracy')\n",
    "plt.plot(conv_history['accuracy']['test'], label='Convolutional model test accuracy')\n",
    "plt.ylabel('Accuracy')\n",
    "plt.xlabel('Epoch')\n",
    "plt.legend(loc='lower right')\n",
    "\n",
    "plt.show()"
   ],
   "metadata": {
    "collapsed": false,
    "ExecuteTime": {
     "end_time": "2023-11-07T00:30:07.676239800Z",
     "start_time": "2023-11-07T00:30:07.521259700Z"
    }
   }
  },
  {
   "cell_type": "code",
   "execution_count": 128,
   "outputs": [
    {
     "data": {
      "text/plain": "<Figure size 576x288 with 2 Axes>",
      "image/png": "[encoded data removed]"
     },
     "metadata": {
      "needs_background": "light"
     },
     "output_type": "display_data"
    }
   ],
   "source": [
    "x = np.arange(2)\n",
    "width = 0.3\n",
    "\n",
    "_, axs = plt.subplots(1, 2, figsize=(8,4))\n",
    "\n",
    "train_bars = axs[0].bar(x-width/2, [basic_history['accuracy']['train'][-1], conv_history['accuracy']['train'][-1]], width, color='tab:blue', label='Train')\n",
    "test_bars = axs[0].bar(x+width/2, [basic_history['accuracy']['test'][-1], conv_history['accuracy']['test'][-1]], width, color='tab:orange', label='Test')\n",
    "\n",
    "axs[0].bar_label(train_bars, fmt='{:.3f}')\n",
    "axs[0].bar_label(test_bars, fmt='{:.3f}')\n",
    "\n",
    "axs[0].set_ylabel('Accuracy')\n",
    "axs[0].set_xlabel('Model')\n",
    "axs[0].set_xticks(x, ['Basic model', 'Convolutional model'])\n",
    "axs[0].legend(loc='lower center')\n",
    "\n",
    "basic_bars = axs[1].bar(x-width/2, [basic_history['accuracy']['train'][-1], basic_history['accuracy']['test'][-1]], width, color='tab:blue', label='Basic model')\n",
    "conv_bars = axs[1].bar(x+width/2, [conv_history['accuracy']['train'][-1], conv_history['accuracy']['test'][-1]], width, color='tab:orange', label='Convolutional model')\n",
    "\n",
    "axs[1].bar_label(basic_bars, fmt='{:.3f}')\n",
    "axs[1].bar_label(conv_bars, fmt='{:.3f}')\n",
    "\n",
    "axs[1].set_ylabel('Accuracy')\n",
    "axs[1].set_xlabel('Model')\n",
    "axs[1].set_xticks(x, ['Train', 'Test'])\n",
    "axs[1].legend(loc='lower center')\n",
    "\n",
    "plt.tight_layout()\n",
    "plt.show()"
   ],
   "metadata": {
    "collapsed": false,
    "ExecuteTime": {
     "end_time": "2023-11-07T00:34:45.264636200Z",
     "start_time": "2023-11-07T00:34:44.961014Z"
    }
   }
  },
  {
   "cell_type": "markdown",
   "source": [
    "For my CNN, I kept the parameters the same for all of the convolutional layers.  For my CNN, I kept the parameters the same for all of the convolutional layers. For all convolutional layers I introduced padding and for the pooling layers I used a stride of 1, as I found this produced the best results consistently and prevented the dimensionality from rapidly decreasing (since 28x28 isn't very large). For the convolutional portion of the network, I used a kernel size of 5 and produced 9 output-channels, while for the linear portion of the model I used a hidden size of 128. The basic model had 669,706 training parameters while the convolutional model has 662,744 (see my `count_parameters` function above for how these were computed).\n",
    "\n",
    "Overall the difference in performance between the basic model and the convolutional model is relatively small, but it is still notable (about 3% improvement on both train and test sets). Additionally, the convolutional model began outperforming the basic model in only about 5 epochs. Both models are slightly overfitted, having an approximate 2% reduction in performance for the test set compared to the training set. However, this different is rather small, suggesting a reasonably good fit. This overfitting may potentially be resolved using smarter techniques, such as edge detection."
   ],
   "metadata": {
    "collapsed": false
   }
  },
  {
   "cell_type": "markdown",
   "source": [
    "### Task 2\n",
    "In addition to the network design, training parameters and algorithms also influence the performance of the network. The second task is to retrain your CNN constructed in task 1 with a different learning rate and batch size.\n",
    "\n",
    "**Deliverable:** Show a quantitative comparison of the model accuracy on the training and test data with a plot of accuracy vs. epochs with a learning rate of 0.1, 0.001, and 0.00001. Summarise the difference in performance and explain the cause. Fixing the learning rate to be 0.001, show a quantitative comparison of the model accuracy on the training and test data with a plot of accuracy vs. epochs with a batch size of 4, 64, and 512. Summarise the difference in performance and explain the cause."
   ],
   "metadata": {
    "id": "4CW577Hjq8vn"
   }
  },
  {
   "cell_type": "code",
   "execution_count": 140,
   "outputs": [
    {
     "name": "stdout",
     "output_type": "stream",
     "text": [
      "epoch: 1 batch: 199 loss: 2.2966218972206116\n",
      "epoch: 1 batch: 399 loss: 2.3025848865509033\n",
      "epoch: 1 batch: 599 loss: 2.3025848865509033\n",
      "epoch: 1 batch: 799 loss: 2.3025848865509033\n",
      "accuracy on training set: 0.1\n",
      "accuracy on test set: 0.1\n",
      "epoch: 2 batch: 199 loss: 2.3025848865509033\n",
      "epoch: 2 batch: 399 loss: 2.3025848865509033\n",
      "epoch: 2 batch: 599 loss: 2.3025848865509033\n",
      "epoch: 2 batch: 799 loss: 2.3025848865509033\n",
      "accuracy on training set: 0.1\n",
      "accuracy on test set: 0.1\n",
      "epoch: 3 batch: 199 loss: 2.3025848865509033\n",
      "epoch: 3 batch: 399 loss: 2.3025848865509033\n",
      "epoch: 3 batch: 599 loss: 2.3025848865509033\n",
      "epoch: 3 batch: 799 loss: 2.3025848865509033\n",
      "accuracy on training set: 0.1\n",
      "accuracy on test set: 0.1\n",
      "epoch: 4 batch: 199 loss: 2.3025848865509033\n",
      "epoch: 4 batch: 399 loss: 2.3025848865509033\n",
      "epoch: 4 batch: 599 loss: 2.3025848865509033\n",
      "epoch: 4 batch: 799 loss: 2.3025848865509033\n",
      "accuracy on training set: 0.1\n",
      "accuracy on test set: 0.1\n",
      "epoch: 5 batch: 199 loss: 2.3025848865509033\n",
      "epoch: 5 batch: 399 loss: 2.3025848865509033\n",
      "epoch: 5 batch: 599 loss: 2.3025848865509033\n",
      "epoch: 5 batch: 799 loss: 2.3025848865509033\n",
      "accuracy on training set: 0.1\n",
      "accuracy on test set: 0.1\n",
      "epoch: 6 batch: 199 loss: 2.3025848865509033\n",
      "epoch: 6 batch: 399 loss: 2.3025848865509033\n",
      "epoch: 6 batch: 599 loss: 2.3025848865509033\n",
      "epoch: 6 batch: 799 loss: 2.3025848865509033\n",
      "accuracy on training set: 0.1\n",
      "accuracy on test set: 0.1\n",
      "epoch: 7 batch: 199 loss: 2.3025848865509033\n",
      "epoch: 7 batch: 399 loss: 2.3025848865509033\n",
      "epoch: 7 batch: 599 loss: 2.3025848865509033\n",
      "epoch: 7 batch: 799 loss: 2.3025848865509033\n",
      "accuracy on training set: 0.1\n",
      "accuracy on test set: 0.1\n",
      "epoch: 8 batch: 199 loss: 2.3025848865509033\n",
      "epoch: 8 batch: 399 loss: 2.3025848865509033\n",
      "epoch: 8 batch: 599 loss: 2.3025848865509033\n",
      "epoch: 8 batch: 799 loss: 2.3025848865509033\n",
      "accuracy on training set: 0.1\n",
      "accuracy on test set: 0.1\n",
      "epoch: 9 batch: 199 loss: 2.3025848865509033\n",
      "epoch: 9 batch: 399 loss: 2.3025848865509033\n",
      "epoch: 9 batch: 599 loss: 2.3025848865509033\n",
      "epoch: 9 batch: 799 loss: 2.3025848865509033\n",
      "accuracy on training set: 0.1\n",
      "accuracy on test set: 0.1\n",
      "epoch: 10 batch: 199 loss: 2.3025848865509033\n",
      "epoch: 10 batch: 399 loss: 2.3025848865509033\n",
      "epoch: 10 batch: 599 loss: 2.3025848865509033\n",
      "epoch: 10 batch: 799 loss: 2.3025848865509033\n",
      "accuracy on training set: 0.1\n",
      "accuracy on test set: 0.1\n",
      "epoch: 11 batch: 199 loss: 2.3025848865509033\n",
      "epoch: 11 batch: 399 loss: 2.3025848865509033\n",
      "epoch: 11 batch: 599 loss: 2.3025848865509033\n",
      "epoch: 11 batch: 799 loss: 2.3025848865509033\n",
      "accuracy on training set: 0.1\n",
      "accuracy on test set: 0.1\n",
      "epoch: 12 batch: 199 loss: 2.3025848865509033\n",
      "epoch: 12 batch: 399 loss: 2.3025848865509033\n",
      "epoch: 12 batch: 599 loss: 2.3025848865509033\n",
      "epoch: 12 batch: 799 loss: 2.3025848865509033\n",
      "accuracy on training set: 0.1\n",
      "accuracy on test set: 0.1\n",
      "epoch: 13 batch: 199 loss: 2.3025848865509033\n",
      "epoch: 13 batch: 399 loss: 2.3025848865509033\n",
      "epoch: 13 batch: 599 loss: 2.3025848865509033\n",
      "epoch: 13 batch: 799 loss: 2.3025848865509033\n",
      "accuracy on training set: 0.1\n",
      "accuracy on test set: 0.1\n",
      "epoch: 14 batch: 199 loss: 2.3025848865509033\n",
      "epoch: 14 batch: 399 loss: 2.3025848865509033\n",
      "epoch: 14 batch: 599 loss: 2.3025848865509033\n",
      "epoch: 14 batch: 799 loss: 2.3025848865509033\n",
      "accuracy on training set: 0.1\n",
      "accuracy on test set: 0.1\n",
      "epoch: 15 batch: 199 loss: 2.3025848865509033\n",
      "epoch: 15 batch: 399 loss: 2.3025848865509033\n",
      "epoch: 15 batch: 599 loss: 2.3025848865509033\n",
      "epoch: 15 batch: 799 loss: 2.3025848865509033\n",
      "accuracy on training set: 0.1\n",
      "accuracy on test set: 0.1\n",
      "epoch: 16 batch: 199 loss: 2.3025848865509033\n",
      "epoch: 16 batch: 399 loss: 2.3025848865509033\n",
      "epoch: 16 batch: 599 loss: 2.3025848865509033\n",
      "epoch: 16 batch: 799 loss: 2.3025848865509033\n",
      "accuracy on training set: 0.1\n",
      "accuracy on test set: 0.1\n",
      "epoch: 17 batch: 199 loss: 2.3025848865509033\n",
      "epoch: 17 batch: 399 loss: 2.3025848865509033\n",
      "epoch: 17 batch: 599 loss: 2.3025848865509033\n",
      "epoch: 17 batch: 799 loss: 2.3025848865509033\n",
      "accuracy on training set: 0.1\n",
      "accuracy on test set: 0.1\n",
      "epoch: 18 batch: 199 loss: 2.3025848865509033\n",
      "epoch: 18 batch: 399 loss: 2.3025848865509033\n",
      "epoch: 18 batch: 599 loss: 2.3025848865509033\n",
      "epoch: 18 batch: 799 loss: 2.3025848865509033\n",
      "accuracy on training set: 0.1\n",
      "accuracy on test set: 0.1\n",
      "epoch: 19 batch: 199 loss: 2.3025848865509033\n",
      "epoch: 19 batch: 399 loss: 2.3025848865509033\n",
      "epoch: 19 batch: 599 loss: 2.3025848865509033\n",
      "epoch: 19 batch: 799 loss: 2.3025848865509033\n",
      "accuracy on training set: 0.1\n",
      "accuracy on test set: 0.1\n",
      "epoch: 20 batch: 199 loss: 2.3025848865509033\n",
      "epoch: 20 batch: 399 loss: 2.3025848865509033\n",
      "epoch: 20 batch: 599 loss: 2.3025848865509033\n",
      "epoch: 20 batch: 799 loss: 2.3025848865509033\n",
      "accuracy on training set: 0.1\n",
      "accuracy on test set: 0.1\n",
      "Finished Training\n",
      "Elapsed time: 0:05:40.809461 (0:00:17.040473 per epoch)\n",
      "epoch: 1 batch: 199 loss: 2.3021279799938204\n",
      "epoch: 1 batch: 399 loss: 2.301107413768768\n",
      "epoch: 1 batch: 599 loss: 2.2980707561969758\n",
      "epoch: 1 batch: 799 loss: 2.2816919183731077\n",
      "accuracy on training set: 0.406\n",
      "accuracy on test set: 0.4088\n",
      "epoch: 2 batch: 199 loss: 1.6676723426580429\n",
      "epoch: 2 batch: 399 loss: 1.2774729165434837\n",
      "epoch: 2 batch: 599 loss: 1.1884125873446465\n",
      "epoch: 2 batch: 799 loss: 1.1317735832929612\n",
      "accuracy on training set: 0.6342666666666666\n",
      "accuracy on test set: 0.6268\n",
      "epoch: 3 batch: 199 loss: 1.0890920770168304\n",
      "epoch: 3 batch: 399 loss: 1.0736482647061347\n",
      "epoch: 3 batch: 599 loss: 1.0510103866457938\n",
      "epoch: 3 batch: 799 loss: 1.0190788143873215\n",
      "accuracy on training set: 0.6815166666666667\n",
      "accuracy on test set: 0.6719\n",
      "epoch: 4 batch: 199 loss: 1.0186196503043174\n",
      "epoch: 4 batch: 399 loss: 0.9894883719086647\n",
      "epoch: 4 batch: 599 loss: 0.9603514981269836\n",
      "epoch: 4 batch: 799 loss: 0.9828650042414665\n",
      "accuracy on training set: 0.6881166666666667\n",
      "accuracy on test set: 0.68\n",
      "epoch: 5 batch: 199 loss: 0.9479376447200775\n",
      "epoch: 5 batch: 399 loss: 0.9388742142915726\n",
      "epoch: 5 batch: 599 loss: 0.9334637312591076\n",
      "epoch: 5 batch: 799 loss: 0.8965417692065238\n",
      "accuracy on training set: 0.7020166666666666\n",
      "accuracy on test set: 0.6966\n",
      "epoch: 6 batch: 199 loss: 0.9092027960717678\n",
      "epoch: 6 batch: 399 loss: 0.8878313678503037\n",
      "epoch: 6 batch: 599 loss: 0.8864172485470772\n",
      "epoch: 6 batch: 799 loss: 0.8604096481204033\n",
      "accuracy on training set: 0.8320833333333333\n",
      "accuracy on test set: 0.8229\n",
      "epoch: 7 batch: 199 loss: 0.49016372472047803\n",
      "epoch: 7 batch: 399 loss: 0.4719090835005045\n",
      "epoch: 7 batch: 599 loss: 0.45324383802711965\n",
      "epoch: 7 batch: 799 loss: 0.4704697898030281\n",
      "accuracy on training set: 0.84035\n",
      "accuracy on test set: 0.83\n",
      "epoch: 8 batch: 199 loss: 0.43525437250733373\n",
      "epoch: 8 batch: 399 loss: 0.4334041848033667\n",
      "epoch: 8 batch: 599 loss: 0.4230275907367468\n",
      "epoch: 8 batch: 799 loss: 0.42407761707901953\n",
      "accuracy on training set: 0.8527666666666667\n",
      "accuracy on test set: 0.8412\n",
      "epoch: 9 batch: 199 loss: 0.4180277340859175\n",
      "epoch: 9 batch: 399 loss: 0.39859650544822217\n",
      "epoch: 9 batch: 599 loss: 0.3896340079605579\n",
      "epoch: 9 batch: 799 loss: 0.4086418360471725\n",
      "accuracy on training set: 0.86285\n",
      "accuracy on test set: 0.8527\n",
      "epoch: 10 batch: 199 loss: 0.39247761756181715\n",
      "epoch: 10 batch: 399 loss: 0.3755560294538736\n",
      "epoch: 10 batch: 599 loss: 0.3717778031527996\n",
      "epoch: 10 batch: 799 loss: 0.37409538522362706\n",
      "accuracy on training set: 0.8576166666666667\n",
      "accuracy on test set: 0.8431\n",
      "epoch: 11 batch: 199 loss: 0.354857017621398\n",
      "epoch: 11 batch: 399 loss: 0.36926311187446115\n",
      "epoch: 11 batch: 599 loss: 0.3496354629844427\n",
      "epoch: 11 batch: 799 loss: 0.3565092811733484\n",
      "accuracy on training set: 0.8717833333333334\n",
      "accuracy on test set: 0.8615\n",
      "epoch: 12 batch: 199 loss: 0.3426808154582977\n",
      "epoch: 12 batch: 399 loss: 0.34469711132347586\n",
      "epoch: 12 batch: 599 loss: 0.34375148415565493\n",
      "epoch: 12 batch: 799 loss: 0.3475526235252619\n",
      "accuracy on training set: 0.8758333333333334\n",
      "accuracy on test set: 0.8674\n",
      "epoch: 13 batch: 199 loss: 0.33424499608576297\n",
      "epoch: 13 batch: 399 loss: 0.32920900247991086\n",
      "epoch: 13 batch: 599 loss: 0.320642925798893\n",
      "epoch: 13 batch: 799 loss: 0.33275147996842863\n",
      "accuracy on training set: 0.8847333333333334\n",
      "accuracy on test set: 0.8703\n",
      "epoch: 14 batch: 199 loss: 0.31691423296928406\n",
      "epoch: 14 batch: 399 loss: 0.32081916719675063\n",
      "epoch: 14 batch: 599 loss: 0.32079250253736974\n",
      "epoch: 14 batch: 799 loss: 0.31510478392243385\n",
      "accuracy on training set: 0.88075\n",
      "accuracy on test set: 0.8661\n",
      "epoch: 15 batch: 199 loss: 0.30418797992169855\n",
      "epoch: 15 batch: 399 loss: 0.3051234669983387\n",
      "epoch: 15 batch: 599 loss: 0.31829663027077915\n",
      "epoch: 15 batch: 799 loss: 0.30552096135914325\n",
      "accuracy on training set: 0.8716833333333334\n",
      "accuracy on test set: 0.8571\n",
      "epoch: 16 batch: 199 loss: 0.30831050489097833\n",
      "epoch: 16 batch: 399 loss: 0.30815701350569724\n",
      "epoch: 16 batch: 599 loss: 0.2972424260526896\n",
      "epoch: 16 batch: 799 loss: 0.2952649949491024\n",
      "accuracy on training set: 0.89285\n",
      "accuracy on test set: 0.8798\n",
      "epoch: 17 batch: 199 loss: 0.30439706046134235\n",
      "epoch: 17 batch: 399 loss: 0.28804285924881695\n",
      "epoch: 17 batch: 599 loss: 0.2917912248149514\n",
      "epoch: 17 batch: 799 loss: 0.29055791802704334\n",
      "accuracy on training set: 0.8965\n",
      "accuracy on test set: 0.88\n",
      "epoch: 18 batch: 199 loss: 0.28468449242413046\n",
      "epoch: 18 batch: 399 loss: 0.2872354982420802\n",
      "epoch: 18 batch: 599 loss: 0.2965298179537058\n",
      "epoch: 18 batch: 799 loss: 0.28370242718607186\n",
      "accuracy on training set: 0.9017833333333334\n",
      "accuracy on test set: 0.8855\n",
      "epoch: 19 batch: 199 loss: 0.2782231607660651\n",
      "epoch: 19 batch: 399 loss: 0.2804353929311037\n",
      "epoch: 19 batch: 599 loss: 0.2829692640528083\n",
      "epoch: 19 batch: 799 loss: 0.28522401317954066\n",
      "accuracy on training set: 0.9034166666666666\n",
      "accuracy on test set: 0.8881\n",
      "epoch: 20 batch: 199 loss: 0.2736298344656825\n",
      "epoch: 20 batch: 399 loss: 0.2841117419674993\n",
      "epoch: 20 batch: 599 loss: 0.27186040323227645\n",
      "epoch: 20 batch: 799 loss: 0.2793466129899025\n",
      "accuracy on training set: 0.8982166666666667\n",
      "accuracy on test set: 0.8843\n",
      "Finished Training\n",
      "Elapsed time: 0:05:48.103324 (0:00:17.405166 per epoch)\n",
      "epoch: 1 batch: 199 loss: 2.303158928155899\n",
      "epoch: 1 batch: 399 loss: 2.3024047565460206\n",
      "epoch: 1 batch: 599 loss: 2.3030586361885073\n",
      "epoch: 1 batch: 799 loss: 2.302627590894699\n",
      "accuracy on training set: 0.1\n",
      "accuracy on test set: 0.1\n",
      "epoch: 2 batch: 199 loss: 2.3024811112880705\n",
      "epoch: 2 batch: 399 loss: 2.302839515209198\n",
      "epoch: 2 batch: 599 loss: 2.302713702917099\n",
      "epoch: 2 batch: 799 loss: 2.302982193231583\n",
      "accuracy on training set: 0.10001666666666667\n",
      "accuracy on test set: 0.1\n",
      "epoch: 3 batch: 199 loss: 2.302722355127335\n",
      "epoch: 3 batch: 399 loss: 2.3023504149913787\n",
      "epoch: 3 batch: 599 loss: 2.30253879904747\n",
      "epoch: 3 batch: 799 loss: 2.302611714601517\n",
      "accuracy on training set: 0.10001666666666667\n",
      "accuracy on test set: 0.1\n",
      "epoch: 4 batch: 199 loss: 2.3022340047359466\n",
      "epoch: 4 batch: 399 loss: 2.302273532152176\n",
      "epoch: 4 batch: 599 loss: 2.302457559108734\n",
      "epoch: 4 batch: 799 loss: 2.3023872220516206\n",
      "accuracy on training set: 0.10001666666666667\n",
      "accuracy on test set: 0.1\n",
      "epoch: 5 batch: 199 loss: 2.3023940002918244\n",
      "epoch: 5 batch: 399 loss: 2.30206707239151\n",
      "epoch: 5 batch: 599 loss: 2.302191969156265\n",
      "epoch: 5 batch: 799 loss: 2.3020301520824433\n",
      "accuracy on training set: 0.10001666666666667\n",
      "accuracy on test set: 0.1\n",
      "epoch: 6 batch: 199 loss: 2.301719001531601\n",
      "epoch: 6 batch: 399 loss: 2.3019747161865234\n",
      "epoch: 6 batch: 599 loss: 2.302019957304001\n",
      "epoch: 6 batch: 799 loss: 2.302061595916748\n",
      "accuracy on training set: 0.10001666666666667\n",
      "accuracy on test set: 0.1\n",
      "epoch: 7 batch: 199 loss: 2.3015836417675017\n",
      "epoch: 7 batch: 399 loss: 2.301692706346512\n",
      "epoch: 7 batch: 599 loss: 2.3021084702014925\n",
      "epoch: 7 batch: 799 loss: 2.3015545737743377\n",
      "accuracy on training set: 0.10001666666666667\n",
      "accuracy on test set: 0.1\n",
      "epoch: 8 batch: 199 loss: 2.3016442179679872\n",
      "epoch: 8 batch: 399 loss: 2.3019061136245726\n",
      "epoch: 8 batch: 599 loss: 2.301784793138504\n",
      "epoch: 8 batch: 799 loss: 2.3013245248794556\n",
      "accuracy on training set: 0.10006666666666666\n",
      "accuracy on test set: 0.1001\n",
      "epoch: 9 batch: 199 loss: 2.30136416554451\n",
      "epoch: 9 batch: 399 loss: 2.301667343378067\n",
      "epoch: 9 batch: 599 loss: 2.3010353219509123\n",
      "epoch: 9 batch: 799 loss: 2.3015074622631073\n",
      "accuracy on training set: 0.10038333333333334\n",
      "accuracy on test set: 0.1003\n",
      "epoch: 10 batch: 199 loss: 2.3011289644241333\n",
      "epoch: 10 batch: 399 loss: 2.3014957320690157\n",
      "epoch: 10 batch: 599 loss: 2.3012034845352174\n",
      "epoch: 10 batch: 799 loss: 2.3013184332847594\n",
      "accuracy on training set: 0.10085\n",
      "accuracy on test set: 0.101\n",
      "epoch: 11 batch: 199 loss: 2.3011800658702852\n",
      "epoch: 11 batch: 399 loss: 2.300881178379059\n",
      "epoch: 11 batch: 599 loss: 2.3014252090454104\n",
      "epoch: 11 batch: 799 loss: 2.300996912717819\n",
      "accuracy on training set: 0.10236666666666666\n",
      "accuracy on test set: 0.1018\n",
      "epoch: 12 batch: 199 loss: 2.3008347797393798\n",
      "epoch: 12 batch: 399 loss: 2.3012608492374422\n",
      "epoch: 12 batch: 599 loss: 2.300777554512024\n",
      "epoch: 12 batch: 799 loss: 2.301024135351181\n",
      "accuracy on training set: 0.10463333333333333\n",
      "accuracy on test set: 0.1049\n",
      "epoch: 13 batch: 199 loss: 2.3009903764724733\n",
      "epoch: 13 batch: 399 loss: 2.3007490825653076\n",
      "epoch: 13 batch: 599 loss: 2.300606061220169\n",
      "epoch: 13 batch: 799 loss: 2.300623754262924\n",
      "accuracy on training set: 0.10903333333333333\n",
      "accuracy on test set: 0.1092\n",
      "epoch: 14 batch: 199 loss: 2.3006067192554474\n",
      "epoch: 14 batch: 399 loss: 2.3007206964492797\n",
      "epoch: 14 batch: 599 loss: 2.3008125019073487\n",
      "epoch: 14 batch: 799 loss: 2.300305275917053\n",
      "accuracy on training set: 0.11528333333333333\n",
      "accuracy on test set: 0.1153\n",
      "epoch: 15 batch: 199 loss: 2.30043394446373\n",
      "epoch: 15 batch: 399 loss: 2.300196448564529\n",
      "epoch: 15 batch: 599 loss: 2.3003511703014374\n",
      "epoch: 15 batch: 799 loss: 2.3004417419433594\n",
      "accuracy on training set: 0.12486666666666667\n",
      "accuracy on test set: 0.1245\n",
      "epoch: 16 batch: 199 loss: 2.300218651294708\n",
      "epoch: 16 batch: 399 loss: 2.300406759977341\n",
      "epoch: 16 batch: 599 loss: 2.30004812002182\n",
      "epoch: 16 batch: 799 loss: 2.300047844648361\n",
      "accuracy on training set: 0.13901666666666668\n",
      "accuracy on test set: 0.1376\n",
      "epoch: 17 batch: 199 loss: 2.3000771737098695\n",
      "epoch: 17 batch: 399 loss: 2.3000539708137513\n",
      "epoch: 17 batch: 599 loss: 2.2995876586437225\n",
      "epoch: 17 batch: 799 loss: 2.299814382791519\n",
      "accuracy on training set: 0.15016666666666667\n",
      "accuracy on test set: 0.1507\n",
      "epoch: 18 batch: 199 loss: 2.2993781650066376\n",
      "epoch: 18 batch: 399 loss: 2.299717881679535\n",
      "epoch: 18 batch: 599 loss: 2.299807586669922\n",
      "epoch: 18 batch: 799 loss: 2.29968624830246\n",
      "accuracy on training set: 0.15855\n",
      "accuracy on test set: 0.1593\n",
      "epoch: 19 batch: 199 loss: 2.2996450412273406\n",
      "epoch: 19 batch: 399 loss: 2.2996127831935884\n",
      "epoch: 19 batch: 599 loss: 2.2993348920345307\n",
      "epoch: 19 batch: 799 loss: 2.299237322807312\n",
      "accuracy on training set: 0.16441666666666666\n",
      "accuracy on test set: 0.1661\n",
      "epoch: 20 batch: 199 loss: 2.299281153678894\n",
      "epoch: 20 batch: 399 loss: 2.2994593167304993\n",
      "epoch: 20 batch: 599 loss: 2.299190423488617\n",
      "epoch: 20 batch: 799 loss: 2.298978034257889\n",
      "accuracy on training set: 0.16968333333333332\n",
      "accuracy on test set: 0.1712\n",
      "Finished Training\n",
      "Elapsed time: 0:05:41.482440 (0:00:17.074122 per epoch)\n"
     ]
    }
   ],
   "source": [
    "loss_fn = nn.CrossEntropyLoss()\n",
    "\n",
    "lrs = {\n",
    "    .1: None, \n",
    "    .001: None,\n",
    "    .00001: None\n",
    "}\n",
    "\n",
    "for lr in lrs.keys():\n",
    "    try:\n",
    "        lrs[lr] = dill.load(open(f'lr_{lr}.pkl', 'rb'))\n",
    "        print(f'Loaded lr={lr} data from file.')\n",
    "    except:\n",
    "        print(f'lr={lr} data not found. Training model...')\n",
    "        lr_conv_model = ConvNet(n_hidden=256, conv_channels=9, kernel_size=5).to(device)\n",
    "        optimizer = torch.optim.SGD(lr_conv_model.parameters(), lr=lr, momentum=0.9)\n",
    "        \n",
    "        lrs[lr] = train(lr_conv_model, optimizer, loss_fn, n_epochs=train_epochs)\n",
    "        dill.dump(lrs[lr], open(f'lr_{lr}.pkl', 'wb'))"
   ],
   "metadata": {
    "collapsed": false,
    "ExecuteTime": {
     "end_time": "2023-11-07T01:45:34.555522900Z",
     "start_time": "2023-11-07T01:28:24.085227300Z"
    }
   }
  },
  {
   "cell_type": "code",
   "execution_count": 163,
   "outputs": [
    {
     "data": {
      "text/plain": "<Figure size 936x360 with 2 Axes>",
      "image/png": "[encoded data removed]"
     },
     "metadata": {
      "needs_background": "light"
     },
     "output_type": "display_data"
    }
   ],
   "source": [
    "_, axs = plt.subplots(1,2, figsize=(13,5), sharey=True)\n",
    "\n",
    "for lr in lrs.keys():\n",
    "    axs[0].plot(lrs[lr]['accuracy']['test'], label=f'lr={lr}')\n",
    "axs[0].set_title('Test Accuracy')\n",
    "axs[0].set_ylabel('Accuracy')\n",
    "axs[0].set_xlabel('Epoch')\n",
    "axs[0].legend()\n",
    "\n",
    "width = 0.3\n",
    "x = np.arange(len(lrs))\n",
    "\n",
    "lr_train_bars = axs[1].bar(x-width/2, [lrs[lr]['accuracy']['train'][-1] for lr in lrs.keys()], width, label=f'Train')\n",
    "lr_test_bars = axs[1].bar(x+width/2, [lrs[lr]['accuracy']['test'][-1] for lr in lrs.keys()], width, label=f'Test')\n",
    "axs[1].bar_label(lr_train_bars, fmt='{:.3f}')\n",
    "axs[1].bar_label(lr_test_bars, fmt='{:.3f}')\n",
    "axs[1].set_title('Accuracy')\n",
    "axs[1].set_xticks(np.arange(len(lrs)), lrs.keys())\n",
    "axs[1].set_xlabel('Learning rate')\n",
    "axs[1].legend()\n",
    "\n",
    "plt.tight_layout()\n",
    "plt.show()"
   ],
   "metadata": {
    "collapsed": false,
    "ExecuteTime": {
     "end_time": "2023-11-07T01:59:46.321928400Z",
     "start_time": "2023-11-07T01:59:45.916421500Z"
    }
   }
  },
  {
   "cell_type": "markdown",
   "source": [
    "Based on this experiment, we can see that the learning rate strongly impacts how fast the model learns and to what degree. In the case of `lr=0.1`, the learning rate is so large that the model fails to learn at all, resulting in completely random predictions. This is because the learning rate is so large that the optimizer always overshoots any minima it is optimizing for. With `lr=0.00001` the model fails to fully generalize, but does begin learning very slowly toward the end of the training. This is because the movements of the optimizer are so short that it takes a very long time to actually begin approaching a minima. Notably, with this learning rate the train and test performance is very similar (though admittedly very poor). These contrast significantly from `lr=0.001`, which does successfully learn, reaching a test accuracy of 88.4%. This is because this learning rate is large enough to approach the minima relatively quickly, but small enough that it doesn't overshoot it (or at least, not as much)."
   ],
   "metadata": {
    "collapsed": false
   }
  },
  {
   "cell_type": "code",
   "execution_count": 4,
   "outputs": [
    {
     "name": "stdout",
     "output_type": "stream",
     "text": [
      "Loaded batch_size=512 data from file.\n",
      "Loaded batch_size=64 data from file.\n",
      "Loaded batch_size=4 data from file.\n"
     ]
    }
   ],
   "source": [
    "loss_fn = nn.CrossEntropyLoss()\n",
    "\n",
    "batch_sizes = {\n",
    "    512: None,\n",
    "    64: None,\n",
    "    4: None\n",
    "}\n",
    "\n",
    "for batch_size in batch_sizes.keys():\n",
    "    try:\n",
    "        batch_sizes[batch_size] = dill.load(open(f'bs_{batch_size}.pkl', 'rb'))\n",
    "        print(f'Loaded batch_size={batch_size} data from file.')\n",
    "    except:\n",
    "        print(f'batch_size={batch_size} data not found. Training model...')\n",
    "        bs_trainloader = DataLoader(training_data, batch_size=batch_size, shuffle=True, num_workers=2)\n",
    "        \n",
    "        bs_conv_model = ConvNet(n_hidden=256, conv_channels=9, kernel_size=5).to(device)\n",
    "        optimizer = torch.optim.SGD(bs_conv_model.parameters(), lr=0.001, momentum=0.9)\n",
    "    \n",
    "        batch_sizes[batch_size] = train(bs_conv_model, optimizer, loss_fn, n_epochs=train_epochs, trainloader=bs_trainloader)\n",
    "        dill.dump(batch_sizes[batch_size], open(f'bs_{batch_size}.pkl', 'wb'))"
   ],
   "metadata": {
    "collapsed": false,
    "ExecuteTime": {
     "end_time": "2023-11-07T22:59:23.450333500Z",
     "start_time": "2023-11-07T22:59:23.390159900Z"
    }
   }
  },
  {
   "cell_type": "code",
   "execution_count": 5,
   "outputs": [
    {
     "data": {
      "text/plain": "<Figure size 936x360 with 2 Axes>",
      "image/png": "[encoded data removed]"
     },
     "metadata": {
      "needs_background": "light"
     },
     "output_type": "display_data"
    }
   ],
   "source": [
    "_, axs = plt.subplots(1,2, figsize=(13,5), sharey=True)\n",
    "\n",
    "for bs in batch_sizes.keys():\n",
    "    axs[0].plot(batch_sizes[bs]['accuracy']['test'], label=f'lr={bs}')\n",
    "axs[0].set_title('Test Accuracy')\n",
    "axs[0].set_ylabel('Accuracy')\n",
    "axs[0].set_xlabel('Epoch')\n",
    "axs[0].legend()\n",
    "\n",
    "width = 0.3\n",
    "x = np.arange(len(batch_sizes))\n",
    "\n",
    "bs_train_bars = axs[1].bar(x-width/2, [batch_sizes[bs]['accuracy']['train'][-1] for bs in batch_sizes.keys()], width, label=f'Train')\n",
    "bs_test_bars = axs[1].bar(x+width/2, [batch_sizes[bs]['accuracy']['test'][-1] for bs in batch_sizes.keys()], width, label=f'Test')\n",
    "axs[1].bar_label(bs_train_bars, fmt='{:.3f}')\n",
    "axs[1].bar_label(bs_test_bars, fmt='{:.3f}')\n",
    "axs[1].set_title('Accuracy')\n",
    "axs[1].set_xticks(np.arange(len(batch_sizes)), batch_sizes.keys())\n",
    "axs[1].set_xlabel('Batch size')\n",
    "axs[1].legend()\n",
    "\n",
    "plt.tight_layout()\n",
    "plt.show()"
   ],
   "metadata": {
    "collapsed": false,
    "ExecuteTime": {
     "end_time": "2023-11-07T22:59:26.301877800Z",
     "start_time": "2023-11-07T22:59:25.860583500Z"
    }
   }
  },
  {
   "cell_type": "markdown",
   "source": [
    "Based on this experiment, the batch size has a relatively minor impact on model accuracy once fully trained, but significantly impacts the dynamics of how fast the model trains. This is because with smaller batch sizes, a much greater number of expensive operations need to occur, causing training to take much longer per epoch. However, based on `batch_size=4`, having a smaller batch size leads to very slightly better final test performance, but also notably more overfitting (test accuracy from batch size of 64 to 4 increases by only 0.3%, while train accuracy increases by 1.9%). Looking at `batch_size=512`, we see lower model accuracy, but the model also had not fully converged by the end of training, and would likely approach similar performance to the other models if trained longer. Additionally, the model trained with larger batch size appeared to have less overfitting, with train and test accuracy only differing by 0.3%. The differences in overfitting occur because using a small batch size causes the optimizer to consider only a small number of samples when calculating its gradients, resulting in model adjustments due to microscopic effects that may not generalize as well to the broader behavior. By contrast, having a larger batch size allows for better consideration of the average (general) behavior. That said, while we did not explore it here, having too large of a batch size can also result in overfitting or underfitting due to being unable to consider microscoping, per-sample behaviors as well. This is why the model trained on a large batch size did not converge before training finished. "
   ],
   "metadata": {
    "collapsed": false
   }
  }
 ]
}
